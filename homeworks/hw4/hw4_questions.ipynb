{
 "cells": [
  {
   "cell_type": "code",
   "execution_count": null,
   "metadata": {},
   "outputs": [],
   "source": [
    "import pandas as pd"
   ]
  },
  {
   "cell_type": "code",
   "execution_count": null,
   "metadata": {},
   "outputs": [
    {
     "data": {
      "text/html": [
       "<div>\n",
       "<style scoped>\n",
       "    .dataframe tbody tr th:only-of-type {\n",
       "        vertical-align: middle;\n",
       "    }\n",
       "\n",
       "    .dataframe tbody tr th {\n",
       "        vertical-align: top;\n",
       "    }\n",
       "\n",
       "    .dataframe thead th {\n",
       "        text-align: right;\n",
       "    }\n",
       "</style>\n",
       "<table border=\"1\" class=\"dataframe\">\n",
       "  <thead>\n",
       "    <tr style=\"text-align: right;\">\n",
       "      <th></th>\n",
       "      <th>brand</th>\n",
       "      <th>id</th>\n",
       "      <th>satisfaction</th>\n",
       "      <th>trust</th>\n",
       "      <th>build</th>\n",
       "      <th>differs</th>\n",
       "      <th>easy</th>\n",
       "      <th>appealing</th>\n",
       "      <th>rewarding</th>\n",
       "      <th>popular</th>\n",
       "      <th>service</th>\n",
       "      <th>impact</th>\n",
       "    </tr>\n",
       "  </thead>\n",
       "  <tbody>\n",
       "    <tr>\n",
       "      <th>0</th>\n",
       "      <td>1</td>\n",
       "      <td>98</td>\n",
       "      <td>3</td>\n",
       "      <td>1</td>\n",
       "      <td>0</td>\n",
       "      <td>1</td>\n",
       "      <td>1</td>\n",
       "      <td>1</td>\n",
       "      <td>0</td>\n",
       "      <td>0</td>\n",
       "      <td>1</td>\n",
       "      <td>0</td>\n",
       "    </tr>\n",
       "    <tr>\n",
       "      <th>1</th>\n",
       "      <td>1</td>\n",
       "      <td>179</td>\n",
       "      <td>5</td>\n",
       "      <td>0</td>\n",
       "      <td>0</td>\n",
       "      <td>0</td>\n",
       "      <td>0</td>\n",
       "      <td>0</td>\n",
       "      <td>0</td>\n",
       "      <td>0</td>\n",
       "      <td>0</td>\n",
       "      <td>0</td>\n",
       "    </tr>\n",
       "    <tr>\n",
       "      <th>2</th>\n",
       "      <td>1</td>\n",
       "      <td>197</td>\n",
       "      <td>3</td>\n",
       "      <td>1</td>\n",
       "      <td>0</td>\n",
       "      <td>0</td>\n",
       "      <td>1</td>\n",
       "      <td>1</td>\n",
       "      <td>1</td>\n",
       "      <td>0</td>\n",
       "      <td>1</td>\n",
       "      <td>1</td>\n",
       "    </tr>\n",
       "    <tr>\n",
       "      <th>3</th>\n",
       "      <td>1</td>\n",
       "      <td>317</td>\n",
       "      <td>1</td>\n",
       "      <td>0</td>\n",
       "      <td>0</td>\n",
       "      <td>0</td>\n",
       "      <td>0</td>\n",
       "      <td>1</td>\n",
       "      <td>0</td>\n",
       "      <td>1</td>\n",
       "      <td>1</td>\n",
       "      <td>1</td>\n",
       "    </tr>\n",
       "    <tr>\n",
       "      <th>4</th>\n",
       "      <td>1</td>\n",
       "      <td>356</td>\n",
       "      <td>4</td>\n",
       "      <td>1</td>\n",
       "      <td>1</td>\n",
       "      <td>1</td>\n",
       "      <td>1</td>\n",
       "      <td>1</td>\n",
       "      <td>1</td>\n",
       "      <td>1</td>\n",
       "      <td>1</td>\n",
       "      <td>1</td>\n",
       "    </tr>\n",
       "    <tr>\n",
       "      <th>...</th>\n",
       "      <td>...</td>\n",
       "      <td>...</td>\n",
       "      <td>...</td>\n",
       "      <td>...</td>\n",
       "      <td>...</td>\n",
       "      <td>...</td>\n",
       "      <td>...</td>\n",
       "      <td>...</td>\n",
       "      <td>...</td>\n",
       "      <td>...</td>\n",
       "      <td>...</td>\n",
       "      <td>...</td>\n",
       "    </tr>\n",
       "    <tr>\n",
       "      <th>2548</th>\n",
       "      <td>10</td>\n",
       "      <td>17800</td>\n",
       "      <td>5</td>\n",
       "      <td>1</td>\n",
       "      <td>1</td>\n",
       "      <td>0</td>\n",
       "      <td>1</td>\n",
       "      <td>0</td>\n",
       "      <td>1</td>\n",
       "      <td>1</td>\n",
       "      <td>1</td>\n",
       "      <td>1</td>\n",
       "    </tr>\n",
       "    <tr>\n",
       "      <th>2549</th>\n",
       "      <td>10</td>\n",
       "      <td>17808</td>\n",
       "      <td>3</td>\n",
       "      <td>1</td>\n",
       "      <td>0</td>\n",
       "      <td>0</td>\n",
       "      <td>1</td>\n",
       "      <td>0</td>\n",
       "      <td>1</td>\n",
       "      <td>1</td>\n",
       "      <td>1</td>\n",
       "      <td>0</td>\n",
       "    </tr>\n",
       "    <tr>\n",
       "      <th>2550</th>\n",
       "      <td>10</td>\n",
       "      <td>17893</td>\n",
       "      <td>5</td>\n",
       "      <td>0</td>\n",
       "      <td>1</td>\n",
       "      <td>1</td>\n",
       "      <td>0</td>\n",
       "      <td>0</td>\n",
       "      <td>0</td>\n",
       "      <td>0</td>\n",
       "      <td>0</td>\n",
       "      <td>0</td>\n",
       "    </tr>\n",
       "    <tr>\n",
       "      <th>2551</th>\n",
       "      <td>10</td>\n",
       "      <td>17984</td>\n",
       "      <td>3</td>\n",
       "      <td>1</td>\n",
       "      <td>1</td>\n",
       "      <td>0</td>\n",
       "      <td>1</td>\n",
       "      <td>0</td>\n",
       "      <td>1</td>\n",
       "      <td>0</td>\n",
       "      <td>0</td>\n",
       "      <td>0</td>\n",
       "    </tr>\n",
       "    <tr>\n",
       "      <th>2552</th>\n",
       "      <td>10</td>\n",
       "      <td>18073</td>\n",
       "      <td>4</td>\n",
       "      <td>0</td>\n",
       "      <td>1</td>\n",
       "      <td>0</td>\n",
       "      <td>1</td>\n",
       "      <td>0</td>\n",
       "      <td>0</td>\n",
       "      <td>0</td>\n",
       "      <td>0</td>\n",
       "      <td>0</td>\n",
       "    </tr>\n",
       "  </tbody>\n",
       "</table>\n",
       "<p>2553 rows × 12 columns</p>\n",
       "</div>"
      ],
      "text/plain": [
       "      brand     id  satisfaction  trust  build  differs  easy  appealing  \\\n",
       "0         1     98             3      1      0        1     1          1   \n",
       "1         1    179             5      0      0        0     0          0   \n",
       "2         1    197             3      1      0        0     1          1   \n",
       "3         1    317             1      0      0        0     0          1   \n",
       "4         1    356             4      1      1        1     1          1   \n",
       "...     ...    ...           ...    ...    ...      ...   ...        ...   \n",
       "2548     10  17800             5      1      1        0     1          0   \n",
       "2549     10  17808             3      1      0        0     1          0   \n",
       "2550     10  17893             5      0      1        1     0          0   \n",
       "2551     10  17984             3      1      1        0     1          0   \n",
       "2552     10  18073             4      0      1        0     1          0   \n",
       "\n",
       "      rewarding  popular  service  impact  \n",
       "0             0        0        1       0  \n",
       "1             0        0        0       0  \n",
       "2             1        0        1       1  \n",
       "3             0        1        1       1  \n",
       "4             1        1        1       1  \n",
       "...         ...      ...      ...     ...  \n",
       "2548          1        1        1       1  \n",
       "2549          1        1        1       0  \n",
       "2550          0        0        0       0  \n",
       "2551          1        0        0       0  \n",
       "2552          0        0        0       0  \n",
       "\n",
       "[2553 rows x 12 columns]"
      ]
     },
     "execution_count": 2,
     "metadata": {},
     "output_type": "execute_result"
    }
   ],
   "source": [
    "data = pd.read_csv('./data_for_drivers_analysis.csv')\n",
    "data"
   ]
  },
  {
   "cell_type": "code",
   "execution_count": null,
   "metadata": {},
   "outputs": [
    {
     "data": {
      "text/html": [
       "<div>\n",
       "<style scoped>\n",
       "    .dataframe tbody tr th:only-of-type {\n",
       "        vertical-align: middle;\n",
       "    }\n",
       "\n",
       "    .dataframe tbody tr th {\n",
       "        vertical-align: top;\n",
       "    }\n",
       "\n",
       "    .dataframe thead th {\n",
       "        text-align: right;\n",
       "    }\n",
       "</style>\n",
       "<table border=\"1\" class=\"dataframe\">\n",
       "  <thead>\n",
       "    <tr style=\"text-align: right;\">\n",
       "      <th></th>\n",
       "      <th>brand</th>\n",
       "      <th>id</th>\n",
       "      <th>satisfaction</th>\n",
       "      <th>trust</th>\n",
       "      <th>build</th>\n",
       "      <th>differs</th>\n",
       "      <th>easy</th>\n",
       "      <th>appealing</th>\n",
       "      <th>rewarding</th>\n",
       "      <th>popular</th>\n",
       "      <th>service</th>\n",
       "      <th>impact</th>\n",
       "    </tr>\n",
       "  </thead>\n",
       "  <tbody>\n",
       "    <tr>\n",
       "      <th>count</th>\n",
       "      <td>2553.000000</td>\n",
       "      <td>2553.000000</td>\n",
       "      <td>2553.000000</td>\n",
       "      <td>2553.000000</td>\n",
       "      <td>2553.000000</td>\n",
       "      <td>2553.000000</td>\n",
       "      <td>2553.000000</td>\n",
       "      <td>2553.000000</td>\n",
       "      <td>2553.000000</td>\n",
       "      <td>2553.000000</td>\n",
       "      <td>2553.000000</td>\n",
       "      <td>2553.000000</td>\n",
       "    </tr>\n",
       "    <tr>\n",
       "      <th>mean</th>\n",
       "      <td>4.857423</td>\n",
       "      <td>8931.480611</td>\n",
       "      <td>3.386604</td>\n",
       "      <td>0.549550</td>\n",
       "      <td>0.461810</td>\n",
       "      <td>0.334508</td>\n",
       "      <td>0.536232</td>\n",
       "      <td>0.451234</td>\n",
       "      <td>0.451234</td>\n",
       "      <td>0.536232</td>\n",
       "      <td>0.467293</td>\n",
       "      <td>0.330983</td>\n",
       "    </tr>\n",
       "    <tr>\n",
       "      <th>std</th>\n",
       "      <td>2.830096</td>\n",
       "      <td>5114.287849</td>\n",
       "      <td>1.172006</td>\n",
       "      <td>0.497636</td>\n",
       "      <td>0.498637</td>\n",
       "      <td>0.471911</td>\n",
       "      <td>0.498783</td>\n",
       "      <td>0.497714</td>\n",
       "      <td>0.497714</td>\n",
       "      <td>0.498783</td>\n",
       "      <td>0.499027</td>\n",
       "      <td>0.470659</td>\n",
       "    </tr>\n",
       "    <tr>\n",
       "      <th>min</th>\n",
       "      <td>1.000000</td>\n",
       "      <td>88.000000</td>\n",
       "      <td>1.000000</td>\n",
       "      <td>0.000000</td>\n",
       "      <td>0.000000</td>\n",
       "      <td>0.000000</td>\n",
       "      <td>0.000000</td>\n",
       "      <td>0.000000</td>\n",
       "      <td>0.000000</td>\n",
       "      <td>0.000000</td>\n",
       "      <td>0.000000</td>\n",
       "      <td>0.000000</td>\n",
       "    </tr>\n",
       "    <tr>\n",
       "      <th>25%</th>\n",
       "      <td>3.000000</td>\n",
       "      <td>4310.000000</td>\n",
       "      <td>3.000000</td>\n",
       "      <td>0.000000</td>\n",
       "      <td>0.000000</td>\n",
       "      <td>0.000000</td>\n",
       "      <td>0.000000</td>\n",
       "      <td>0.000000</td>\n",
       "      <td>0.000000</td>\n",
       "      <td>0.000000</td>\n",
       "      <td>0.000000</td>\n",
       "      <td>0.000000</td>\n",
       "    </tr>\n",
       "    <tr>\n",
       "      <th>50%</th>\n",
       "      <td>4.000000</td>\n",
       "      <td>8924.000000</td>\n",
       "      <td>4.000000</td>\n",
       "      <td>1.000000</td>\n",
       "      <td>0.000000</td>\n",
       "      <td>0.000000</td>\n",
       "      <td>1.000000</td>\n",
       "      <td>0.000000</td>\n",
       "      <td>0.000000</td>\n",
       "      <td>1.000000</td>\n",
       "      <td>0.000000</td>\n",
       "      <td>0.000000</td>\n",
       "    </tr>\n",
       "    <tr>\n",
       "      <th>75%</th>\n",
       "      <td>6.000000</td>\n",
       "      <td>13545.000000</td>\n",
       "      <td>4.000000</td>\n",
       "      <td>1.000000</td>\n",
       "      <td>1.000000</td>\n",
       "      <td>1.000000</td>\n",
       "      <td>1.000000</td>\n",
       "      <td>1.000000</td>\n",
       "      <td>1.000000</td>\n",
       "      <td>1.000000</td>\n",
       "      <td>1.000000</td>\n",
       "      <td>1.000000</td>\n",
       "    </tr>\n",
       "    <tr>\n",
       "      <th>max</th>\n",
       "      <td>10.000000</td>\n",
       "      <td>18088.000000</td>\n",
       "      <td>5.000000</td>\n",
       "      <td>1.000000</td>\n",
       "      <td>1.000000</td>\n",
       "      <td>1.000000</td>\n",
       "      <td>1.000000</td>\n",
       "      <td>1.000000</td>\n",
       "      <td>1.000000</td>\n",
       "      <td>1.000000</td>\n",
       "      <td>1.000000</td>\n",
       "      <td>1.000000</td>\n",
       "    </tr>\n",
       "  </tbody>\n",
       "</table>\n",
       "</div>"
      ],
      "text/plain": [
       "             brand            id  satisfaction        trust        build  \\\n",
       "count  2553.000000   2553.000000   2553.000000  2553.000000  2553.000000   \n",
       "mean      4.857423   8931.480611      3.386604     0.549550     0.461810   \n",
       "std       2.830096   5114.287849      1.172006     0.497636     0.498637   \n",
       "min       1.000000     88.000000      1.000000     0.000000     0.000000   \n",
       "25%       3.000000   4310.000000      3.000000     0.000000     0.000000   \n",
       "50%       4.000000   8924.000000      4.000000     1.000000     0.000000   \n",
       "75%       6.000000  13545.000000      4.000000     1.000000     1.000000   \n",
       "max      10.000000  18088.000000      5.000000     1.000000     1.000000   \n",
       "\n",
       "           differs         easy    appealing    rewarding      popular  \\\n",
       "count  2553.000000  2553.000000  2553.000000  2553.000000  2553.000000   \n",
       "mean      0.334508     0.536232     0.451234     0.451234     0.536232   \n",
       "std       0.471911     0.498783     0.497714     0.497714     0.498783   \n",
       "min       0.000000     0.000000     0.000000     0.000000     0.000000   \n",
       "25%       0.000000     0.000000     0.000000     0.000000     0.000000   \n",
       "50%       0.000000     1.000000     0.000000     0.000000     1.000000   \n",
       "75%       1.000000     1.000000     1.000000     1.000000     1.000000   \n",
       "max       1.000000     1.000000     1.000000     1.000000     1.000000   \n",
       "\n",
       "           service       impact  \n",
       "count  2553.000000  2553.000000  \n",
       "mean      0.467293     0.330983  \n",
       "std       0.499027     0.470659  \n",
       "min       0.000000     0.000000  \n",
       "25%       0.000000     0.000000  \n",
       "50%       0.000000     0.000000  \n",
       "75%       1.000000     1.000000  \n",
       "max       1.000000     1.000000  "
      ]
     },
     "execution_count": 3,
     "metadata": {},
     "output_type": "execute_result"
    }
   ],
   "source": [
    "data.describe()"
   ]
  },
  {
   "cell_type": "code",
   "execution_count": null,
   "metadata": {},
   "outputs": [
    {
     "data": {
      "text/plain": [
       "brand           0\n",
       "id              0\n",
       "satisfaction    0\n",
       "trust           0\n",
       "build           0\n",
       "differs         0\n",
       "easy            0\n",
       "appealing       0\n",
       "rewarding       0\n",
       "popular         0\n",
       "service         0\n",
       "impact          0\n",
       "dtype: int64"
      ]
     },
     "execution_count": 4,
     "metadata": {},
     "output_type": "execute_result"
    }
   ],
   "source": [
    "data.isnull().sum()"
   ]
  },
  {
   "cell_type": "code",
   "execution_count": null,
   "metadata": {},
   "outputs": [
    {
     "data": {
      "image/png": "[encoded data removed]",
      "text/plain": [
       "<Figure size 1000x600 with 1 Axes>"
      ]
     },
     "metadata": {},
     "output_type": "display_data"
    }
   ],
   "source": [
    "import matplotlib.pyplot as plt\n",
    "import seaborn as sns\n",
    "\n",
    "plt.figure(figsize=(10, 6))\n",
    "sns.histplot(data['satisfaction'], kde=True, bins=10)\n",
    "plt.title('Distribution of Customer Satisfaction')\n",
    "plt.xlabel('Satisfaction')\n",
    "plt.ylabel('Frequency')\n",
    "plt.show()\n"
   ]
  },
  {
   "cell_type": "code",
   "execution_count": null,
   "metadata": {},
   "outputs": [],
   "source": [
    "# Feature selection\n",
    "features = ['trust', 'build', 'differs', 'easy', 'appealing', 'rewarding', 'popular', 'service', 'impact']\n",
    "X = data[features]\n",
    "y = data['satisfaction']\n"
   ]
  },
  {
   "cell_type": "code",
   "execution_count": null,
   "metadata": {},
   "outputs": [],
   "source": [
    "# Standardizing the features\n",
    "from sklearn.preprocessing import StandardScaler\n",
    "scaler = StandardScaler()\n",
    "X_scaled = scaler.fit_transform(X)"
   ]
  },
  {
   "cell_type": "code",
   "execution_count": null,
   "metadata": {},
   "outputs": [
    {
     "name": "stdout",
     "output_type": "stream",
     "text": [
      "trust        0.255706\n",
      "build        0.191896\n",
      "differs      0.184801\n",
      "easy         0.212985\n",
      "appealing    0.207997\n",
      "rewarding    0.194561\n",
      "popular      0.171425\n",
      "service      0.251098\n",
      "impact       0.254539\n",
      "Name: satisfaction, dtype: float64\n"
     ]
    }
   ],
   "source": [
    "# Calculate Pearson correlations\n",
    "correlations = data.corr()\n",
    "pearson_corr = correlations['satisfaction'][features]\n",
    "print(pearson_corr)"
   ]
  },
  {
   "cell_type": "code",
   "execution_count": null,
   "metadata": {},
   "outputs": [
    {
     "name": "stdout",
     "output_type": "stream",
     "text": [
      "x1    0.135635\n",
      "x2    0.023411\n",
      "x3    0.032631\n",
      "x4    0.025744\n",
      "x5    0.039647\n",
      "x6    0.005937\n",
      "x7    0.019470\n",
      "x8    0.103573\n",
      "x9    0.150482\n",
      "dtype: float64\n"
     ]
    }
   ],
   "source": [
    "import statsmodels.api as sm\n",
    "\n",
    "# Add a constant to the model (intercept)\n",
    "X_scaled_with_constant = sm.add_constant(X_scaled)\n",
    "model = sm.OLS(y, X_scaled_with_constant).fit()\n",
    "standardized_coefficients = model.params[1:]  # Exclude the intercept\n",
    "print(standardized_coefficients)"
   ]
  },
  {
   "cell_type": "code",
   "execution_count": null,
   "metadata": {},
   "outputs": [
    {
     "name": "stdout",
     "output_type": "stream",
     "text": [
      "[0.008243096643170134, 0.0002659202754857759, 0.0005503571557788911, 0.0002886049537902391, 0.0007095919425783581, 1.5743327233974647e-05, 0.00020422417231480416, 0.004673682536300738, 0.011202900306909735]\n"
     ]
    }
   ],
   "source": [
    "from sklearn.linear_model import LinearRegression\n",
    "import numpy as np\n",
    "\n",
    "# Full model R-squared\n",
    "full_model = LinearRegression().fit(X_scaled, y)\n",
    "full_r2 = full_model.score(X_scaled, y)\n",
    "\n",
    "usefulness = []\n",
    "for feature in range(X_scaled.shape[1]):\n",
    "    X_temp = np.delete(X_scaled, feature, axis=1)\n",
    "    temp_model = LinearRegression().fit(X_temp, y)\n",
    "    temp_r2 = temp_model.score(X_temp, y)\n",
    "    usefulness.append(full_r2 - temp_r2)\n",
    "\n",
    "print(usefulness)"
   ]
  },
  {
   "cell_type": "code",
   "execution_count": null,
   "metadata": {},
   "outputs": [
    {
     "data": {
      "image/png": "[encoded data removed]",
      "text/plain": [
       "<Figure size 800x510 with 2 Axes>"
      ]
     },
     "metadata": {},
     "output_type": "display_data"
    }
   ],
   "source": [
    "import shap\n",
    "\n",
    "# SHAP values for Linear Regression\n",
    "explainer = shap.LinearExplainer(full_model, X_scaled)\n",
    "shap_values = explainer.shap_values(X_scaled)\n",
    "shap.summary_plot(shap_values, X_scaled, feature_names=features)"
   ]
  },
  {
   "cell_type": "code",
   "execution_count": null,
   "metadata": {},
   "outputs": [
    {
     "name": "stdout",
     "output_type": "stream",
     "text": [
      "[0.32827123 0.00980108 0.01902929 0.0118589  0.02807966 0.00063593\n",
      " 0.00678067 0.19148051 0.40406272]\n"
     ]
    }
   ],
   "source": [
    "from sklearn.linear_model import Ridge\n",
    "\n",
    "ridge_model = Ridge(alpha=1.0).fit(X_scaled, y)\n",
    "relative_weights = np.square(ridge_model.coef_)\n",
    "relative_weights = relative_weights / np.sum(relative_weights)\n",
    "print(relative_weights)"
   ]
  },
  {
   "cell_type": "code",
   "execution_count": null,
   "metadata": {},
   "outputs": [
    {
     "name": "stdout",
     "output_type": "stream",
     "text": [
      "[0.15586537 0.10230144 0.08989693 0.09990365 0.08553448 0.10105692\n",
      " 0.09494376 0.12966365 0.1408338 ]\n"
     ]
    }
   ],
   "source": [
    "from sklearn.ensemble import RandomForestRegressor\n",
    "\n",
    "rf = RandomForestRegressor(n_estimators=100, random_state=42)\n",
    "rf.fit(X_scaled, y)\n",
    "importances = rf.feature_importances_\n",
    "print(importances)"
   ]
  },
  {
   "cell_type": "code",
   "execution_count": null,
   "metadata": {},
   "outputs": [
    {
     "name": "stdout",
     "output_type": "stream",
     "text": [
      "     Feature  Pearson Corr  Standardized Coef  Usefulness  Shapley Values  \\\n",
      "0      trust      0.255706           0.135635    0.008243        0.136576   \n",
      "1      build      0.191896           0.023411    0.000266        0.023157   \n",
      "2    differs      0.184801           0.032631    0.000550        0.028857   \n",
      "3       easy      0.212985           0.025744    0.000289        0.025924   \n",
      "4  appealing      0.207997           0.039647    0.000710        0.039060   \n",
      "5  rewarding      0.194561           0.005937    0.000016        0.005861   \n",
      "6    popular      0.171425           0.019470    0.000204        0.019465   \n",
      "7    service      0.251098           0.103573    0.004674        0.102030   \n",
      "8     impact      0.254539           0.150482    0.011203        0.130708   \n",
      "\n",
      "   Johnson's Weights  Gini Importance  \n",
      "0           0.328271         0.155865  \n",
      "1           0.009801         0.102301  \n",
      "2           0.019029         0.089897  \n",
      "3           0.011859         0.099904  \n",
      "4           0.028080         0.085534  \n",
      "5           0.000636         0.101057  \n",
      "6           0.006781         0.094944  \n",
      "7           0.191481         0.129664  \n",
      "8           0.404063         0.140834  \n"
     ]
    }
   ],
   "source": [
    "# Combine all results into a single DataFrame\n",
    "results = pd.DataFrame({\n",
    "    'Feature': features,\n",
    "    'Pearson Corr': pearson_corr.values,\n",
    "    'Standardized Coef': standardized_coefficients.values,\n",
    "    'Usefulness': usefulness,\n",
    "    'Shapley Values': np.mean(np.abs(shap_values), axis=0),\n",
    "    'Johnson\\'s Weights': relative_weights,\n",
    "    'Gini Importance': importances\n",
    "})\n",
    "\n",
    "print(results)"
   ]
  },
  {
   "cell_type": "code",
   "execution_count": null,
   "metadata": {},
   "outputs": [
    {
     "data": {
      "text/plain": [
       "trust        0.132834\n",
       "build        0.099686\n",
       "differs      0.096000\n",
       "easy         0.110641\n",
       "appealing    0.108050\n",
       "rewarding    0.101071\n",
       "popular      0.089052\n",
       "service      0.130440\n",
       "impact       0.132227\n",
       "Name: satisfaction, dtype: float64"
      ]
     },
     "execution_count": 16,
     "metadata": {},
     "output_type": "execute_result"
    }
   ],
   "source": [
    "# Normalize the correlations\n",
    "normalized_corr = pearson_corr / pearson_corr.sum()\n",
    "normalized_corr"
   ]
  },
  {
   "cell_type": "code",
   "execution_count": null,
   "metadata": {},
   "outputs": [
    {
     "data": {
      "text/plain": [
       "x1    0.252801\n",
       "x2    0.043635\n",
       "x3    0.060818\n",
       "x4    0.047982\n",
       "x5    0.073895\n",
       "x6    0.011065\n",
       "x7    0.036289\n",
       "x8    0.193043\n",
       "x9    0.280473\n",
       "dtype: float64"
      ]
     },
     "execution_count": 17,
     "metadata": {},
     "output_type": "execute_result"
    }
   ],
   "source": [
    "# Normalize the coefficients\n",
    "normalized_coefficients = standardized_coefficients / standardized_coefficients.sum()\n",
    "normalized_coefficients"
   ]
  }
 ],
 "metadata": {
  "language_info": {
   "codemirror_mode": {
    "name": "ipython",
    "version": 3
   },
   "file_extension": ".py",
   "mimetype": "text/x-python",
   "name": "python",
   "nbconvert_exporter": "python",
   "pygments_lexer": "ipython3",
   "version": 3
  }
 },
 "nbformat": 4,
 "nbformat_minor": 2
}
